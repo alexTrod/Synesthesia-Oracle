{
 "cells": [
  {
   "cell_type": "markdown",
   "metadata": {},
   "source": [
    "### Synaesthesia ###\n",
    "\n",
    "Time series data of parcelations of 127 subjects, both synaesthetic and control"
   ]
  },
  {
   "cell_type": "code",
   "execution_count": 1,
   "metadata": {},
   "outputs": [],
   "source": [
    "# Imports\n",
    "\n",
    "import numpy as np\n",
    "import scipy.io\n",
    "import pickle \n"
   ]
  },
  {
   "cell_type": "markdown",
   "metadata": {},
   "source": [
    "### 1. Data: Time series and Correlations"
   ]
  },
  {
   "cell_type": "code",
   "execution_count": 2,
   "metadata": {},
   "outputs": [
    {
     "name": "stdout",
     "output_type": "stream",
     "text": [
      "['MSMall_data_hcpDA', 'MSMall_data_hcpmain', 'MSMall_data_mcpf5076', '__globals__', '__header__', '__version__', 'subID_hcpDA', 'subID_hcpmain', 'subID_mcpf5076']\n",
      "(127, 1)\n",
      "(127, 379, 1952)\n",
      "(127,)\n",
      "(360, 3)\n"
     ]
    }
   ],
   "source": [
    "# Parcelated Timeseries Data\n",
    "\n",
    "mat = scipy.io.loadmat('./data/MSMall_data_all.mat') \n",
    "\n",
    "\n",
    "print(sorted(mat.keys()))\n",
    "\n",
    "ids = np.array(mat['subID_hcpmain'])\n",
    "time_series = np.array(mat['MSMall_data_hcpmain'])\n",
    "\n",
    "print(ids.shape)\n",
    "print(time_series.shape)\n",
    "\n",
    "np.save('./data/ids_array_file', ids)\n",
    "np.save('./data/time_series_array_file', time_series)\n",
    "\n",
    "# print(ids) \n",
    "# # get labels from .xls, the ids' order is almost the same. Slide the first entry of the labels to be the last\n",
    "\n",
    "labels_2 = np.array([1,  1,  1,  1,  1,  1,  0,  1,  0,  1,  1,  1,  1,  0,  1,  1,  0,  1,  1,  1,  1,  1,  1,  1,  1,  1,  1,  1,  1,  0,  1,  1,  1,  1,  1,  1,  1,  1,  1,  1,  0,  1,  1,  1,  1,  1,  0,  1,  1,  1,  1,  1,  1,  1,  0,  1,  0,  1,  1,  1,  1,  1,  1,  1,  1,  0,  0,  1,  1,  0,  1,  0,  0,  0,  1,  0,  0,  1,  1,  1,  1,  1,  1,  0,  1,  1,  1,  0,  1,  1,  0,  0,  1,  1,  1,  1,  1,  1,  1,  1,  1,  0,  1,  1,  1,  1,  1,  1,  1,  1,  0,  0,  1,  1,  1,  1,  1,  1,  0,  1,  1,  1,  1,  1,  1,  1, 1])\n",
    "labels_10 = np.array([4, 4, 5, 1, 2, 6, 0, 6, 0, 3, 4, 8, 3, 0, 4, 4, 0, 4, 4, 4, 3, 5, 3, 5, 3, 1, 3, 6, 4, 0, 2, 5, 2, 4, 4, 7, 4, 2, 2, 2, 0, 2, 6, 6, 4, 5, 0, 3, 3, 1, 2, 4, 3, 1, 0, 4, 0, 2, 2, 1, 1, 4, 3, 4, 2, 0, 0, 2, 4, 0, 1, 0, 0, 0, 7, 0, 0, 1, 1, 3, 1, 6, 1, 0, 3, 9, 7, 0, 1, 2, 0, 0, 3, 4, 5, 3, 3, 3, 3, 3, 2, 0, 1, 8, 4, 5, 8, 4, 9, 5, 0, 0, 2, 1, 3, 4, 1, 4, 0, 4, 4, 4, 5, 2, 5, 5, 2])\n",
    "\n",
    "labels_2 = labels_2.T\n",
    "labels_10 = labels_10.T\n",
    "\n",
    "# print(labels)\n",
    "print(labels_2.shape)\n",
    "\n",
    "np.save('./data/labels_2_array_file', labels_2)\n",
    "np.save('./data/labels_10_array_file', labels_10)\n",
    "\n",
    "positions = np.array([[115.769282, 65.355512, 112.101373 ] , [78.896718, 81.629344, 115.899614 ] , [110.042335, 69.327133, 138.721616 ] , [115.633227, 67.861996, 113.714119 ] , [110.196364, 60.909237, 117.89587 ] , [97.665197, 62.07516, 107.455147 ] , [97.245957, 69.966809, 95.664681 ] , [100.894188, 128.671933, 164.966842 ] , [90.434023, 125.948046, 160.290575 ] , [83.848597, 143.793542, 159.506088 ] , [80.514308, 148.883943, 144.883943 ] , [78.491217, 148.468445, 154.795706 ] , [109.256781, 57.62387, 138.346293 ] , [122.350831, 110.411803, 128.537985 ] , [117.121888, 76.295829, 145.845781 ] , [99.282421, 63.809798, 142.200768 ] , [102.046857, 74.016, 149.526286 ] , [86.783507, 91.086779, 88.450931 ] , [98.04104, 70.269494, 129.610123 ] , [88.068207, 66.107811, 113.39824 ] , [82.346516, 63.758004, 106.376648 ] , [84.968975, 63.230159, 96.324675 ] , [77.635821, 76.218905, 119.506468 ] , [84.959799, 123.753769, 119.29397 ] , [63.838347, 108.993476, 135.248641 ] , [120.183961, 165.447463, 171.9509 ] , [122.042632, 95.762003, 157.454056 ] , [69.460331, 100.937228, 128.982999 ] , [122.633792, 79.974006, 158.480887 ] , [123.484761, 83.874698, 141.924528 ] , [114.426843, 89.638431, 124.176751 ] , [125.083939, 124.968936, 146.826834 ] , [123.861341, 90.777778, 126.061524 ] , [124.850814, 105.131103, 140.639241 ] , [118.753425, 102.020548, 141.414873 ] , [121.630111, 107.655604, 170.876383 ] , [115.430862, 108.466934, 159.851703 ] , [117.68775, 116.601681, 151.379904 ] , [114.62355, 98.211431, 180.641599 ] , [121.357801, 133.078014, 159.26844 ] , [119.46553, 146.538176, 153.681245 ] , [105.495567, 95.318227, 176.658621 ] , [122.376446, 152.100564, 166.142391 ] , [108.013173, 153.040696, 174.142084 ] , [119.773855, 86.71963, 168.98781 ] , [115.819516, 74.505503, 167.042553 ] , [91.995315, 99.894583, 169.585944 ] , [99.780707, 88.751542, 162.942793 ] , [105.556119, 84.406468, 172.379201 ] , [102.153142, 77.982106, 160.436122 ] , [80.625316, 124.419409, 162.668692 ] , [89.598688, 116.144066, 159.708483 ] , [96.465879, 125.646107, 155.08049 ] , [91.821244, 134.618082, 172.653833 ] , [110.366506, 134.966184, 176.304348 ] , [68.602941, 152.951113, 137.81876 ] , [124.775522, 143.861369, 147.924014 ] , [123.702128, 160.495441, 133.650456 ] , [124.019674, 165.490502, 140.200814 ] , [118.461303, 161.231418, 146.142529 ] , [122.208643, 184.771375, 105.616636 ] , [120.620472, 185.930497, 133.638163 ] , [123.115541, 178.325087, 153.434808 ] , [121.316714, 195.935411, 103.245326 ] , [120.840456, 198.5717, 97.252612 ] , [94.824584, 180.517286, 94.487836 ] , [88.196374, 165.3653, 155.86835 ] , [103.986541, 178.350515, 149.513459 ] , [121.3933, 201.406223, 127.321884 ] , [115.549044, 190.058852, 155.501717 ] , [107.037379, 197.502814, 141.492765 ] , [118.650194, 213.976744, 112.495155 ] , [88.088705, 164.247607, 144.026484 ] , [74.335651, 165.323291, 120.810351 ] , [75.706617, 173.398379, 111.023295 ] , [82.234568, 181.540509, 93.749614 ] , [89.221632, 199.238108, 99.217911 ] , [75.238382, 156.358201, 120.347903 ] , [83.968683, 162.488968, 133.108185 ] , [88.563514, 153.210811, 135.222973 ] , [82.506358, 174.395954, 127.245087 ] , [80.582734, 184.746687, 112.974252 ] , [81.148867, 179.432578, 133.216181 ] , [92.0198, 187.255803, 138.063496 ] , [87.946347, 199.360731, 116.824962 ] , [99.419631, 196.544578, 129.232748 ] , [108.27395, 209.222441, 126.967192 ] , [124.725159, 199.967379, 91.223097 ] , [103.323227, 208.196796, 99.050915 ] , [115.553277, 209.571773, 91.089264 ] , [101.993936, 195.09913, 91.6773 ] , [107.438816, 176.587365, 88.59704 ] , [119.810015, 181.206613, 83.113532 ] , [95.615909, 170.137338, 88.434416 ] , [97.647871, 91.3084, 153.952819 ] , [102.086887, 145.536514, 161.03145 ] , [94.998346, 154.94086, 165.376758 ] , [107.639775, 170.821764, 165.67636 ] , [73.469011, 146.074493, 116.982718 ] , [70.699875, 135.481112, 121.318804 ] , [85.156716, 126.973881, 126.133396 ] , [89.075758, 133.347222, 126.02904 ] , [89.141379, 126.62069, 109.37069 ] , [84.93928, 115.147676, 127.924288 ] , [79.561616, 118.070034, 130.791246 ] , [87.167788, 145.105007, 106.300075 ] , [76.247972, 149.001738, 102.211472 ] , [89.271156, 162.058403, 114.448153 ] , [89.789796, 158.952041, 108.227551 ] , [98.22407, 150.545988, 89.247554 ] , [95.141183, 172.108817, 103.735491 ] , [94.063868, 161.403903, 94.573034 ] , [81.780043, 150.994635, 112.527897 ] , [93.184039, 153.786645, 118.991857 ] , [87.402778, 145.180556, 122.541667 ] , [71.815596, 125.845022, 145.013242 ] , [89.669552, 108.017309, 152.167191 ] , [106.249335, 134.817657, 77.952085 ] , [110.872914, 112.905006, 96.086008 ] , [101.445499, 127.016788, 90.568127 ] , [105.809479, 95.270142, 111.51564 ] , [98.76243, 139.541502, 73.535261 ] , [77.206676, 160.255601, 89.873342 ] , [70.989576, 126.553162, 117.099375 ] , [65.945375, 129.863437, 105.897707 ] , [104.541952, 110.820205, 92.500856 ] , [95.425134, 108.863636, 92.460784 ] , [76.101298, 142.609879, 93.274592 ] , [78.8238, 116.608445, 107.224952 ] , [68.498211, 114.522465, 105.067992 ] , [89.74983, 160.385821, 72.90184 ] , [66.951196, 142.530861, 84.525598 ] , [66.264725, 101.327288, 95.774043 ] , [71.920737, 126.059447, 79.094212 ] , [86.355429, 126.379209, 77.465909 ] , [80.190132, 106.3875, 87.252632 ] , [68.035777, 91.610557, 104.19824 ] , [80.128237, 82.748206, 98.408424 ] , [73.424835, 100.753428, 121.090401 ] , [75.437137, 89.573017, 117.250484 ] , [82.805012, 84.616288, 126.089272 ] , [109.017463, 75.782169, 143.59375 ] , [83.014706, 68.835561, 133.407487 ] , [85.639441, 103.859215, 153.801182 ] , [94.483456, 78.721201, 149.014706 ] , [94.095238, 71.941889, 135.634383 ] , [65.82221, 126.338755, 131.067302 ] , [67.648257, 115.731861, 146.692249 ] , [76.705687, 96.25562, 153.889571 ] , [76.740443, 86.122133, 137.477062 ] , [84.954248, 76.094177, 150.931967 ] , [105.874659, 62.757493, 152.321526 ] , [108.638228, 93.160788, 100.839212 ] , [101.187601, 85.197262, 97.530596 ] , [96.35668, 111.844358, 95.629053 ] , [77.18735, 72.281825, 108.114492 ] , [77.215686, 82.177659, 109.714795 ] , [89.897709, 62.679214, 121.193944 ] , [85.22623, 72.297268, 122.108197 ] , [101.526544, 91.95883, 101.011918 ] , [117.383102, 94.130787, 143.083333 ] , [122.753584, 106.112903, 149.415771 ] , [98.801671, 96.602615, 89.942608 ] , [124.867562, 164.557494, 96.193289 ] , [124.679803, 181.774384, 92.333005 ] , [113.620129, 158.240258, 89.30532 ] , [89.117711, 138.026158, 101.47248 ] , [90.858867, 134.229341, 120.758589 ] , [89.675458, 173.479121, 112.148718 ] , [103.802537, 207.27019, 110.15518 ] , [82.796706, 192.442362, 104.990346 ] , [92.445183, 146.112514, 62.401107 ] , [82.397249, 130.486246, 113.268608 ] , [80.137625, 120.27636, 119.36182 ] , [62.855402, 129.362604, 114.641274 ] , [73.226316, 135.228947, 92.292105 ] , [63.079907, 121.396325, 92.48119 ] , [83.55293, 143.622873, 94.463138 ] , [118.395349, 174.588551, 138.208408 ] , [123.122031, 183.007371, 123.177723 ] , [138.078265, 61.840573, 109.758543 ] , [172.735516, 78.710327, 119.761965 ] , [143.101997, 66.917261, 138.835949 ] , [140.044036, 63.94083, 112.029322 ] , [144.60667, 61.206586, 115.258655 ] , [157.556462, 59.991426, 106.457967 ] , [158.099192, 70.021308, 94.882439 ] , [154.477357, 125.801967, 163.710746 ] , [166.471473, 123.185654, 161.637498 ] , [168.675434, 140.400112, 160.370453 ] , [175.850895, 145.511928, 148.073559 ] , [176.469447, 144.930223, 158.094963 ] , [143.326791, 55.62346, 135.933364 ] , [133.242049, 111.849117, 129.878445 ] , [137.304508, 73.877032, 144.162527 ] , [152.517413, 59.61791, 137.848756 ] , [152.45574, 71.224443, 146.04683 ] , [170.482069, 84.877339, 89.908004 ] , [155.170579, 64.28169, 125.571205 ] , [167.163166, 63.768982, 116.075929 ] , [173.701442, 60.049194, 109.887193 ] , [171.899425, 61.625718, 97.331178 ] , [171.333871, 75.754839, 122.462903 ] , [171.539589, 120.751711, 120.205279 ] , [186.253946, 100.276695, 133.768802 ] , [136.377485, 162.014975, 171.945004 ] , [134.350111, 94.622717, 156.125612 ] , [190.524978, 96.840655, 125.956503 ] , [132.32792, 76.563398, 158.777639 ] , [132.031955, 82.474154, 142.924812 ] , [139.096009, 87.159226, 122.00079 ] , [131.283902, 127.219667, 147.732752 ] , [131.847162, 89.510917, 126.922489 ] , [131.329807, 104.293093, 139.891724 ] , [138.247368, 100.032632, 140.448421 ] , [135.086986, 105.381659, 169.157788 ] , [141.615385, 108.643247, 157.974561 ] , [139.242585, 115.862771, 150.911465 ] , [143.213873, 97.251223, 179.495331 ] , [134.635647, 132.409756, 157.518574 ] , [136.682156, 146.717472, 151.986989 ] , [150.377226, 94.838332, 173.286317 ] , [134.338857, 150.535429, 166.472857 ] , [148.629282, 150.427049, 175.268206 ] , [135.771619, 85.940234, 169.41803 ] , [143.040118, 73.338643, 164.766962 ] , [166.331006, 98.81847, 168.240876 ] , [158.831648, 88.815586, 162.439024 ] , [151.782011, 82.860317, 171.974074 ] , [153.869658, 78.824252, 156.877671 ] , [175.795599, 120.149165, 162.513657 ] , [165.897616, 112.751987, 159.079243 ] , [161.53182, 123.921228, 152.567423 ] , [163.250686, 132.393004, 173.993141 ] , [141.687382, 132.130235, 178.006755 ] , [187.391807, 149.916627, 139.98988 ] , [132.181435, 146.202532, 147.496484 ] , [131.658789, 161.059823, 133.4387 ] , [134.192694, 165.561644, 137.99726 ] , [136.453792, 161.736138, 146.346718 ] , [133.729976, 186.645084, 103.502638 ] , [136.424596, 188.13465, 132.959156 ] , [133.314862, 178.180013, 152.605381 ] , [139.144915, 196.222034, 105.125424 ] , [134.770925, 197.353682, 97.404028 ] , [163.949937, 178.887359, 93.69587 ] , [166.977949, 163.232369, 158.740587 ] , [152.193148, 174.931778, 150.401063 ] , [134.769643, 201.352793, 131.107447 ] , [140.919455, 181.816701, 161.605863 ] , [149.028021, 193.066842, 145.268535 ] , [140.697311, 212.104555, 114.193743 ] , [171.875643, 159.219339, 144.52093 ] , [182.169199, 161.590554, 121.173717 ] , [179.543062, 172.577884, 110.191122 ] , [174.652552, 175.66759, 97.111991 ] , [169.592273, 194.692105, 96.610511 ] , [180.451964, 152.892374, 125.065368 ] , [171.116325, 158.635162, 134.307336 ] , [167.917708, 149.302083, 137.1375 ] , [177.213342, 169.151668, 129.218376 ] , [174.828877, 179.592124, 118.308702 ] , [175.856496, 175.02473, 133.679206 ] , [167.619988, 183.961752, 139.341147 ] , [168.765238, 197.153591, 117.586602 ] , [158.217468, 191.941773, 131.994707 ] , [150.087156, 203.686724, 131.22612 ] , [132.735279, 198.520993, 89.805428 ] , [156.354888, 204.935336, 102.866599 ] , [142.968953, 209.07361, 93.222334 ] , [154.707165, 195.364769, 92.801473 ] , [151.314121, 176.389461, 88.659942 ] , [138.658553, 179.961404, 83.29693 ] , [161.096243, 167.326655, 87.386404 ] , [158.290675, 92.011905, 151.345238 ] , [153.737302, 143.637845, 162.169383 ] , [158.887755, 154.136054, 165.236395 ] , [150.539671, 169.365269, 164.32485 ] , [185.139756, 144.414505, 117.886713 ] , [185.972985, 130.895369, 123.999571 ] , [173.418039, 121.91451, 128.010196 ] , [167.930011, 128.915164, 127.151644 ] , [167.187586, 124.644138, 108.933793 ] , [167.372498, 111.371628, 127.67624 ] , [178.748318, 114.224092, 128.509421 ] , [168.686773, 142.711119, 107.816134 ] , [179.884717, 147.578393, 102.749671 ] , [169.310864, 158.870341, 113.243854 ] , [165.219791, 157.06137, 110.366318 ] , [156.943186, 148.833929, 90.279301 ] , [159.357538, 171.094053, 104.652835 ] , [163.462076, 159.866595, 96.434104 ] , [178.798635, 146.791809, 112.536974 ] , [164.385942, 148.359416, 120.993369 ] , [170.757333, 140.768, 122.590667 ] , [184.602622, 120.178517, 144.456884 ] , [168.522761, 106.898449, 150.637819 ] , [151.766577, 133.772401, 77.168459 ] , [144.78426, 111.312603, 95.788112 ] , [154.354539, 122.095648, 93.023415 ] , [148.890344, 90.903437, 112.07365 ] , [159.017011, 137.122317, 74.687728 ] , [179.316461, 158.980072, 90.300917 ] , [180.732403, 120.319953, 116.809191 ] , [191.37896, 130.778243, 106.036461 ] , [152.385636, 108.556596, 93.611241 ] , [159.768166, 108.644093, 89.936728 ] , [181.98251, 140.459362, 95.490741 ] , [180.806419, 113.22317, 108.962889 ] , [184.276743, 110.927191, 104.645273 ] , [167.10626, 157.937892, 73.119898 ] , [188.960207, 140.135642, 85.394873 ] , [189.688589, 96.104553, 98.451658 ] , [186.054999, 121.295203, 80.350554 ] , [171.364024, 125.805569, 77.186152 ] , [176.691859, 103.322236, 86.938032 ] , [185.571975, 83.786705, 111.199187 ] , [173.578338, 79.988705, 101.858384 ] , [183.739772, 100.586584, 117.90295 ] , [180.379793, 83.879793, 123.86943 ] , [174.986822, 72.968217, 129.339535 ] , [145.782946, 72.857143, 142.909192 ] , [165.697321, 60.820472, 132.773691 ] , [170.883444, 99.794481, 152.322074 ] , [158.729905, 77.658392, 147.369385 ] , [158.974231, 68.689942, 133.615129 ] , [191.334446, 121.383973, 131.296049 ] , [189.332051, 109.838189, 143.838189 ] , [178.936496, 90.241606, 152.401582 ] , [175.266124, 82.433104, 135.881444 ] , [167.963313, 70.079745, 148.907733 ] , [149.276549, 60.103982, 150.021018 ] , [149.473908, 92.594249, 102.041534 ] , [156.045696, 85.22423, 96.617428 ] , [161.277139, 109.60281, 96.662835 ] , [178.70974, 67.846673, 116.677917 ] , [173.270393, 76.60423, 112.995468 ] , [165.973744, 58.020548, 120.207763 ] , [167.890411, 69.098174, 122.8379 ] , [156.707355, 92.696401, 101.820031 ] , [137.004902, 93.426471, 143.011204 ] , [132.280159, 109.406349, 151.293651 ] , [159.566144, 95.408926, 89.556494 ] , [132.608787, 167.173117, 96.10251 ] , [136.574503, 181.115894, 93.975166 ] , [141.038207, 158.404678, 88.88577 ] , [167.395362, 133.930425, 105.183324 ] , [164.198573, 130.513674, 122.808561 ] , [164.532768, 173.372398, 111.939861 ] , [153.814745, 207.481096, 111.63138 ] , [172.76887, 189.777778, 108.96015 ] , [165.834326, 145.010558, 62.906876 ] , [172.832528, 128.756039, 112.615137 ] , [172.897561, 118.202439, 117.010976 ] , [191.272624, 124.349459, 116.480933 ] , [180.357733, 136.649351, 91.104486 ] , [192.656484, 119.135669, 93.27673 ] , [172.851888, 141.677638, 94.866409 ] , [135.897669, 176.56282, 136.017624 ] , [132.984962, 184.489557, 118.97076 ]])\n",
    "\n",
    "print(positions.shape)\n",
    "\n",
    "np.save('./data/positions_array_file', positions)"
   ]
  },
  {
   "cell_type": "code",
   "execution_count": 3,
   "metadata": {},
   "outputs": [
    {
     "name": "stdout",
     "output_type": "stream",
     "text": [
      "['Fnetmats_prep_all', '__globals__', '__header__', '__version__']\n",
      "(127, 129600)\n",
      "(127, 129600)\n"
     ]
    }
   ],
   "source": [
    "# Parcelated Correlation Data - Pearson Correlation\n",
    "\n",
    "# Run the code in matlab to get the files fullcor.mat and parcor.mat\n",
    "\n",
    "mat = scipy.io.loadmat('./data/fullcor.mat') \n",
    "\n",
    "print(sorted(mat.keys()))\n",
    "print(mat['Fnetmats_prep_all'].shape)\n",
    "\n",
    "fullcor = np.array(mat['Fnetmats_prep_all'])\n",
    "\n",
    "print(fullcor.shape)\n",
    "\n",
    "np.save('./data/fullcor_array_file', fullcor)\n",
    "\n",
    "# Correlation matrices\n",
    "\n",
    "fullcor_3d = fullcor.reshape(127, 360, 360)\n",
    "\n",
    "np.save('./data/fullcor_3d_array_file', fullcor_3d)"
   ]
  },
  {
   "cell_type": "code",
   "execution_count": 4,
   "metadata": {},
   "outputs": [
    {
     "name": "stdout",
     "output_type": "stream",
     "text": [
      "['Pnetmats_icov_prep_all', '__globals__', '__header__', '__version__']\n",
      "(127, 129600)\n",
      "(127, 129600)\n"
     ]
    }
   ],
   "source": [
    "# Parcelated Correlation Data - Partial Correlation\n",
    "\n",
    "mat = scipy.io.loadmat('./data/parcor.mat') \n",
    "\n",
    "print(sorted(mat.keys()))\n",
    "print(mat['Pnetmats_icov_prep_all'].shape)\n",
    "\n",
    "parcor = np.array(mat['Pnetmats_icov_prep_all'])\n",
    "\n",
    "print(parcor.shape)\n",
    "\n",
    "np.save('./data/parcor_array_file', parcor)\n",
    "\n",
    "# Correlation matrices\n",
    "\n",
    "parcor_3d = parcor.reshape(127, 360, 360)\n",
    "\n",
    "np.save('./data/parcor_3d_array_file', parcor_3d)"
   ]
  },
  {
   "cell_type": "markdown",
   "metadata": {},
   "source": [
    "### 2. Create the Graphs"
   ]
  },
  {
   "cell_type": "code",
   "execution_count": 5,
   "metadata": {},
   "outputs": [
    {
     "name": "stdout",
     "output_type": "stream",
     "text": [
      "(127, 129600)\n"
     ]
    }
   ],
   "source": [
    "### EDGES ###\n",
    "\n",
    "# input formatting: node, node, edge weight\n",
    "\n",
    "print(parcor.shape)\n",
    "\n",
    "# create graphs (127, 129600, 3)\n",
    "all_edges = np.zeros((127, 129600, 3))\n",
    "\n",
    "for subject in range(parcor.shape[0]):\n",
    "    for first_node in range(0, 360, 1):\n",
    "        for second_node in range(0, 360, 1):\n",
    "            all_edges[subject][(first_node) * 360 + (second_node)] = [int(first_node), int(second_node), parcor[subject][(first_node) * 360 + (second_node)]]\n",
    "\n",
    "np.save('./data/all_edges', all_edges)\n"
   ]
  },
  {
   "cell_type": "code",
   "execution_count": 6,
   "metadata": {},
   "outputs": [],
   "source": [
    "### NORMALIZATION - Min-Max Scaling\n",
    "\n",
    "# normalize and threshold edges per subject\n",
    "\n",
    "# 10% of the most positive and 10% of the most negative\n",
    "\n",
    "normalized_edges = all_edges\n",
    "\n",
    "non_zero_edges_list = [[]for s in range(parcor.shape[0])] \n",
    "\n",
    "\n",
    "for subject in range(parcor.shape[0]):\n",
    "\n",
    "    temp_array = all_edges[subject][:,2]\n",
    "    sorted_index_array = np.argsort(temp_array) \n",
    "    sorted_temp_array = temp_array[sorted_index_array] \n",
    "    \n",
    "    # threshold value - largest 10%\n",
    "    \n",
    "    pos_threshold = sorted_temp_array[-12960]\n",
    "    pos_max = sorted_temp_array[-1]\n",
    "    pos_dev = pos_max - pos_threshold\n",
    "    pos_mean = pos_dev / 2\n",
    "    \n",
    "    if pos_threshold < 0:\n",
    "        print(\"Positive threshold is actually negative!\")\n",
    "\n",
    "    if pos_dev == 0:\n",
    "        print(\"Positive deviation equals Zero!!!\")\n",
    "\n",
    "    # print(pos_dev)\n",
    "    # print(pos_mean)\n",
    "    # print(pos_max)\n",
    "    # print(pos_threshold)\n",
    "    # print(sorted_temp_array[-12960:])\n",
    "    # print(sorted_temp_array[-12960:].shape)    \n",
    "    \n",
    "    neg_threshold = sorted_temp_array[12959]\n",
    "    neg_max = sorted_temp_array[0]\n",
    "    neg_dev = neg_max - neg_threshold\n",
    "    neg_mean = neg_dev / 2\n",
    "\n",
    "    if neg_threshold > 0:\n",
    "        print(\"Negative threshold is actually positive!\")\n",
    "\n",
    "    if neg_dev == 0:\n",
    "        print(\"Negative deviation equals Zero!!!\")\n",
    "\n",
    "    # print(neg_dev)\n",
    "    # print(neg_mean)\n",
    "    # print(neg_max)\n",
    "    # print(neg_threshold)\n",
    "    # print(sorted_temp_array[:12960])\n",
    "    # print(sorted_temp_array[:12960].shape)\n",
    "\n",
    "    \n",
    "\n",
    "    for first_node in range(0, 360, 1):\n",
    "        for second_node in range(0, 360, 1):\n",
    "            if normalized_edges[subject][(first_node) * 360 + (second_node)][2] < pos_threshold and normalized_edges[subject][(first_node) * 360 + (second_node)][2] > neg_threshold:\n",
    "                normalized_edges[subject][(first_node) * 360 + (second_node)] = [int(first_node), int(second_node), 0]\n",
    "            \n",
    "            elif normalized_edges[subject][(first_node) * 360 + (second_node)][2] > pos_threshold:\n",
    "                normalized_edges[subject][(first_node) * 360 + (second_node)] = [int(first_node), int(second_node), (normalized_edges[subject][(first_node) * 360 + (second_node)][2] - (pos_threshold - 0.000001))/(pos_dev + 0.000001)]\n",
    "                non_zero_edges_list[subject].append(normalized_edges[subject][(first_node) * 360 + (second_node)])\n",
    "            \n",
    "            elif normalized_edges[subject][(first_node) * 360 + (second_node)][2] < neg_threshold:\n",
    "                normalized_edges[subject][(first_node) * 360 + (second_node)] = [int(first_node), int(second_node), (normalized_edges[subject][(first_node) * 360 + (second_node)][2] - (neg_threshold + 0.000001))/(neg_dev + 0.000001)]\n",
    "                non_zero_edges_list[subject].append(normalized_edges[subject][(first_node) * 360 + (second_node)])\n",
    "            \n",
    "\n",
    "    # print(\"Subject: \" + str(subject) + \" -> non-zero edges: \" + str(len(non_zero_edges_list[subject])))\n",
    "    # print(non_zero_edges_list[subject])\n",
    "    # print(len(non_zero_edges_list[subject]))\n",
    "\n",
    "\n",
    "\n",
    "np.save('./data/normalized_edges', normalized_edges)\n",
    "\n",
    "# writing list to file\n",
    "with open('./data/non_zero_edges_list', 'wb') as fp:\n",
    "        pickle.dump(non_zero_edges_list, fp)\n",
    "\n",
    "\n",
    "\n",
    "with open('./data/non_zero_edges_list.txt', 'w+') as f:\n",
    "\n",
    "    # write elements of list\n",
    "    for items in non_zero_edges_list:\n",
    "        f.write('%s\\n' %items)\n",
    "\n",
    "\n",
    "f.close()\n",
    "\n",
    "\n"
   ]
  },
  {
   "cell_type": "code",
   "execution_count": 7,
   "metadata": {},
   "outputs": [],
   "source": [
    "### NODES' FEATURES ###\n",
    "\n",
    "# BrainGNN paper:\n",
    "# We use Pearson correlation coefficient\n",
    "# as node features (i.e a vector of Pearson correlation coefficients to\n",
    "# all ROIs). Edges are defined by thresholding (in practice, we use\n",
    "# top 10% positive which guarantees no isolated nodes in the graph)\n",
    "# partial correlations to achieve sparse connections.\n",
    "\n",
    "node_features = fullcor_3d\n",
    "\n",
    "np.save('./data/node_features', node_features)\n",
    "\n",
    "# Pearson's correlation -> [-1,1] -> no normalization needed\n"
   ]
  },
  {
   "cell_type": "code",
   "execution_count": 8,
   "metadata": {},
   "outputs": [],
   "source": [
    "### Further normalization to [0,1]\n",
    "\n",
    "edges_zero_to_one = non_zero_edges_list\n",
    "\n",
    "for subject in range(parcor.shape[0]):\n",
    "\n",
    "    temp_array = np.array(non_zero_edges_list[subject])\n",
    "    \n",
    "\n",
    "    # Min-Max scaling\n",
    "    min_val = np.min(temp_array[:,2])\n",
    "    max_val = np.max(temp_array[:,2])\n",
    "    scaled_temp_array = (temp_array[:,2] - min_val) / (max_val - min_val)\n",
    "\n",
    "    for i in range(len(edges_zero_to_one[subject])):\n",
    "    \n",
    "        edges_zero_to_one[subject][i][2] = scaled_temp_array[i]\n",
    "\n",
    "\n",
    "\n",
    "    \n",
    "\n",
    "# writing list to file\n",
    "with open('./data/edges_zero_to_one', 'wb') as fp:\n",
    "        pickle.dump(edges_zero_to_one, fp)\n",
    "\n",
    "\n",
    "with open('./data/edges_zero_to_one.txt', 'w+') as f:\n",
    "\n",
    "    # write elements of list\n",
    "    for items in edges_zero_to_one:\n",
    "        f.write('%s\\n' %items)\n",
    "\n",
    "\n",
    "f.close()"
   ]
  },
  {
   "cell_type": "markdown",
   "metadata": {},
   "source": [
    "### 3. Graph Dataset ###"
   ]
  },
  {
   "cell_type": "code",
   "execution_count": 9,
   "metadata": {},
   "outputs": [
    {
     "name": "stderr",
     "output_type": "stream",
     "text": [
      "C:\\Users\\katerina\\AppData\\Local\\Temp\\ipykernel_34808\\3768776533.py:31: UserWarning: Creating a tensor from a list of numpy.ndarrays is extremely slow. Please consider converting the list to a single numpy.ndarray with numpy.array() before converting to a tensor. (Triggered internally at C:\\cb\\pytorch_1000000000000\\work\\torch\\csrc\\utils\\tensor_new.cpp:281.)\n",
      "  full_graph = torch.tensor(edges_zero_to_one[subject], dtype=torch.float)\n",
      "C:\\Users\\katerina\\AppData\\Local\\Temp\\ipykernel_34808\\3768776533.py:34: UserWarning: To copy construct from a tensor, it is recommended to use sourceTensor.clone().detach() or sourceTensor.clone().detach().requires_grad_(True), rather than torch.tensor(sourceTensor).\n",
      "  edge_index = torch.tensor(full_graph[:, :-1], dtype=torch.int64)\n",
      "C:\\Users\\katerina\\AppData\\Local\\Temp\\ipykernel_34808\\3768776533.py:35: UserWarning: To copy construct from a tensor, it is recommended to use sourceTensor.clone().detach() or sourceTensor.clone().detach().requires_grad_(True), rather than torch.tensor(sourceTensor).\n",
      "  edge_attr = torch.tensor(full_graph[:, -1], dtype = torch.float)\n"
     ]
    },
    {
     "name": "stdout",
     "output_type": "stream",
     "text": [
      "['pos', 'edge_index', 'y', 'x', 'edge_attr']\n"
     ]
    }
   ],
   "source": [
    "# 10 classes, Pseudo Positions\n",
    "\n",
    "import torch\n",
    "from torch_geometric.data import Data\n",
    "from torch_geometric.loader import DataLoader\n",
    "\n",
    "nodes = np.arange(0, 360, 1)\n",
    "\n",
    "diag_node_id = np.diag(np.ones(360))\n",
    "# print(diag_node_id)\n",
    "# print(diag_node_id.shape)\n",
    "\n",
    "# https://pytorch-geometric.readthedocs.io/en/latest/get_started/introduction.html\n",
    "\n",
    "\n",
    "# x (torch.Tensor, optional) – Node feature matrix with shape [num_nodes, num_node_features]. (default: None)\n",
    "\n",
    "# edge_index (LongTensor, optional) – Graph connectivity in COO format with shape [2, num_edges]. (default: None)\n",
    "\n",
    "# edge_attr (torch.Tensor, optional) – Edge feature matrix with shape [num_edges, num_edge_features]. (default: None)\n",
    "\n",
    "# y (torch.Tensor, optional) – Graph-level or node-level ground-truth labels with arbitrary shape. (default: None)\n",
    "\n",
    "# pos: Node position matrix with shape [num_nodes, num_dimensions]\n",
    "\n",
    "\n",
    "data_10 = []\n",
    "\n",
    "for subject in range(parcor.shape[0]):\n",
    "\n",
    "    full_graph = torch.tensor(edges_zero_to_one[subject], dtype=torch.float)\n",
    "\n",
    "    x = torch.tensor(node_features[subject], dtype = torch.float)\n",
    "    edge_index = torch.tensor(full_graph[:, :-1], dtype=torch.int64)\n",
    "    edge_attr = torch.tensor(full_graph[:, -1], dtype = torch.float)\n",
    "    y = torch.tensor(labels_10[subject], dtype = torch.uint8)\n",
    "    pos = torch.tensor(diag_node_id, dtype=torch.float)\n",
    "    datum = Data(x=x, edge_index=edge_index.t().contiguous(), edge_attr=edge_attr, y = y, pos = pos)\n",
    "    datum.validate(raise_on_error=True)\n",
    "    data_10.append(datum)\n",
    "\n",
    "\n",
    "    # print(datum.num_nodes)\n",
    "    # print(datum.num_edges)\n",
    "    # print(datum.num_node_features)\n",
    "    # print(datum.has_isolated_nodes())\n",
    "    # print(datum.has_self_loops())\n",
    "    # print(datum.is_directed())\n",
    "\n",
    "# print(data)\n",
    "\n",
    "print(data_10[0].keys())\n",
    "\n",
    "\n",
    "### Create a pickle   \n",
    "  \n",
    "# Open a file and use dump() \n",
    "with open('./data/data_10.pkl', 'wb') as file: \n",
    "      \n",
    "    # A new file will be created \n",
    "    pickle.dump(data_10, file) \n",
    "\n"
   ]
  },
  {
   "cell_type": "code",
   "execution_count": 10,
   "metadata": {},
   "outputs": [
    {
     "name": "stderr",
     "output_type": "stream",
     "text": [
      "C:\\Users\\katerina\\AppData\\Local\\Temp\\ipykernel_34808\\76091300.py:29: UserWarning: To copy construct from a tensor, it is recommended to use sourceTensor.clone().detach() or sourceTensor.clone().detach().requires_grad_(True), rather than torch.tensor(sourceTensor).\n",
      "  edge_index = torch.tensor(full_graph[:, :-1], dtype=torch.int64)\n",
      "C:\\Users\\katerina\\AppData\\Local\\Temp\\ipykernel_34808\\76091300.py:30: UserWarning: To copy construct from a tensor, it is recommended to use sourceTensor.clone().detach() or sourceTensor.clone().detach().requires_grad_(True), rather than torch.tensor(sourceTensor).\n",
      "  edge_attr = torch.tensor(full_graph[:, -1], dtype = torch.float)\n"
     ]
    },
    {
     "name": "stdout",
     "output_type": "stream",
     "text": [
      "['pos', 'edge_index', 'y', 'x', 'edge_attr']\n"
     ]
    }
   ],
   "source": [
    "# 2 classes, Pseudo Positions\n",
    "\n",
    "import torch\n",
    "from torch_geometric.data import Data\n",
    "from torch_geometric.loader import DataLoader\n",
    "\n",
    "\n",
    "# https://pytorch-geometric.readthedocs.io/en/latest/get_started/introduction.html\n",
    "\n",
    "\n",
    "# x (torch.Tensor, optional) – Node feature matrix with shape [num_nodes, num_node_features]. (default: None)\n",
    "\n",
    "# edge_index (LongTensor, optional) – Graph connectivity in COO format with shape [2, num_edges]. (default: None)\n",
    "\n",
    "# edge_attr (torch.Tensor, optional) – Edge feature matrix with shape [num_edges, num_edge_features]. (default: None)\n",
    "\n",
    "# y (torch.Tensor, optional) – Graph-level or node-level ground-truth labels with arbitrary shape. (default: None)\n",
    "\n",
    "# pos: Node position matrix with shape [num_nodes, num_dimensions]\n",
    "\n",
    "\n",
    "data_2 = []\n",
    "\n",
    "for subject in range(parcor.shape[0]):\n",
    "\n",
    "    full_graph = torch.tensor(edges_zero_to_one[subject], dtype=torch.float)\n",
    "\n",
    "    x = torch.tensor(node_features[subject], dtype = torch.float)\n",
    "    edge_index = torch.tensor(full_graph[:, :-1], dtype=torch.int64)\n",
    "    edge_attr = torch.tensor(full_graph[:, -1], dtype = torch.float)\n",
    "    y = torch.tensor(labels_2[subject], dtype = torch.uint8)\n",
    "    pos = torch.tensor(diag_node_id, dtype=torch.float)\n",
    "    datum = Data(x=x, edge_index=edge_index.t().contiguous(), edge_attr=edge_attr, y = y, pos = pos)\n",
    "    datum.validate(raise_on_error=True)\n",
    "    data_2.append(datum)\n",
    "\n",
    "\n",
    "    # print(datum.num_nodes)\n",
    "    # print(datum.num_edges)\n",
    "    # print(datum.num_node_features)\n",
    "    # print(datum.has_isolated_nodes())\n",
    "    # print(datum.has_self_loops())\n",
    "    # print(datum.is_directed())\n",
    "\n",
    "# print(data)\n",
    "\n",
    "print(data_2[0].keys())\n",
    "\n",
    "\n",
    "### Create a pickle   \n",
    "  \n",
    "# Open a file and use dump() \n",
    "with open('./data/data_2.pkl', 'wb') as file: \n",
    "      \n",
    "    # A new file will be created \n",
    "    pickle.dump(data_2, file) "
   ]
  },
  {
   "cell_type": "code",
   "execution_count": 11,
   "metadata": {},
   "outputs": [],
   "source": [
    "### Get pickled dataset\n",
    "\n",
    "# file = open('./data/data.pkl', 'rb')\n",
    "# pickled_data = pickle.load(file)\n",
    "# file.close()"
   ]
  },
  {
   "cell_type": "code",
   "execution_count": 12,
   "metadata": {},
   "outputs": [],
   "source": [
    "### Train, test, validate, split\n",
    "\n",
    "# train_dataset = data[0:97]\n",
    "# test_dataset = data[97:112]\n",
    "# validate_dataset = data[112:127]\n",
    "\n",
    "# print(len(train_dataset))\n",
    "# print(len(test_dataset))\n",
    "# print(len(validate_dataset))"
   ]
  }
 ],
 "metadata": {
  "kernelspec": {
   "display_name": "syn_oracle_2",
   "language": "python",
   "name": "python3"
  },
  "language_info": {
   "codemirror_mode": {
    "name": "ipython",
    "version": 3
   },
   "file_extension": ".py",
   "mimetype": "text/x-python",
   "name": "python",
   "nbconvert_exporter": "python",
   "pygments_lexer": "ipython3",
   "version": "3.12.9"
  }
 },
 "nbformat": 4,
 "nbformat_minor": 2
}
